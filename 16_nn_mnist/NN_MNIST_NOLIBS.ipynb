{
 "cells": [
  {
   "cell_type": "markdown",
   "id": "83f8d305",
   "metadata": {},
   "source": [
    "#### What\n",
    "Neural Networks from scratch using MNIST.\n",
    "Hardcoded, no libraries.\n",
    "\n",
    "Merry christmas.\n",
    "\n",
    "\n",
    "#### References:\n",
    "1. [Scikitlearn ](https://scikit-learn.org/stable/auto_examples/linear_model/plot_sparse_logistic_regression_mnist.html)"
   ]
  },
  {
   "cell_type": "code",
   "execution_count": 49,
   "id": "d0c6679a",
   "metadata": {},
   "outputs": [],
   "source": [
    "import numpy as np\n",
    "import time\n",
    "import matplotlib.pyplot as plt\n",
    "\n",
    "from numba import cuda\n",
    "from sklearn.datasets import fetch_openml\n",
    "\n",
    "MAX_VALUE = 255.0\n",
    "IMG_SIZE  = 784"
   ]
  },
  {
   "cell_type": "code",
   "execution_count": 42,
   "id": "345445ac",
   "metadata": {
    "scrolled": true
   },
   "outputs": [],
   "source": [
    "X, y = fetch_openml('mnist_784', version=1, return_X_y=True, as_frame=False, parser='auto')"
   ]
  },
  {
   "cell_type": "code",
   "execution_count": 52,
   "id": "1afb4167",
   "metadata": {},
   "outputs": [
    {
     "data": {
      "image/png": "[encoded data removed]",
      "text/plain": [
       "<Figure size 640x480 with 2 Axes>"
      ]
     },
     "metadata": {},
     "output_type": "display_data"
    },
    {
     "name": "stdout",
     "output_type": "stream",
     "text": [
      "Elapsed time: 22.78480078125\n"
     ]
    }
   ],
   "source": [
    "threads_per_block = 256\n",
    "blocks_per_grid   = (IMG_SIZE + threads_per_block - 1) // threads_per_block\n",
    "\n",
    "@cuda.jit\n",
    "def normalize_image(image, max_value):\n",
    "    t_idx = cuda.grid(1)\n",
    "    if t_idx < image.size:\n",
    "        image[t_idx] = image[t_idx] / max_value\n",
    "\n",
    "start_event = cuda.event()\n",
    "end_event = cuda.event()\n",
    "\n",
    "start_event.record()\n",
    "\n",
    "for i in range(X.shape[0]):\n",
    "    sample = X[i].astype(np.float32)\n",
    "    sample = np.ascontiguousarray(sample, dtype=np.float32)\n",
    "    d_sample = cuda.to_device(sample)\n",
    "    \n",
    "    normalize_image[(blocks_per_grid,), (threads_per_block,)](d_sample, MAX_VALUE)\n",
    "    n_sample = d_sample.copy_to_host()\n",
    "    n_sample = n_sample.reshape(28, 28)\n",
    "    \n",
    "    if (i < 1):\n",
    "        plt.imshow(n_sample, cmap=\"gray\")\n",
    "        plt.colorbar()\n",
    "        plt.title(\"MNIST Digit\")\n",
    "        plt.show()\n",
    "\n",
    "end_event.record()\n",
    "end_event.synchronize()\n",
    "print(f\"Elapsed time: {cuda.event_elapsed_time(start_event, end_event) / 1000}\")"
   ]
  },
  {
   "cell_type": "code",
   "execution_count": 53,
   "id": "789b053c",
   "metadata": {},
   "outputs": [
    {
     "ename": "TypeError",
     "evalue": "__new__() takes 1 positional argument but 2 were given",
     "output_type": "error",
     "traceback": [
      "\u001b[0;31m---------------------------------------------------------------------------\u001b[0m",
      "\u001b[0;31mTypeError\u001b[0m                                 Traceback (most recent call last)",
      "Cell \u001b[0;32mIn[53], line 1\u001b[0m\n\u001b[0;32m----> 1\u001b[0m \u001b[38;5;28mprint\u001b[39m(\u001b[43mcuda\u001b[49m\u001b[38;5;241;43m.\u001b[39;49m\u001b[43mgrid\u001b[49m\u001b[43m(\u001b[49m\u001b[38;5;241;43m1\u001b[39;49m\u001b[43m)\u001b[49m)\n",
      "\u001b[0;31mTypeError\u001b[0m: __new__() takes 1 positional argument but 2 were given"
     ]
    }
   ],
   "source": []
  },
  {
   "cell_type": "code",
   "execution_count": null,
   "id": "7b30d580",
   "metadata": {},
   "outputs": [],
   "source": []
  },
  {
   "cell_type": "code",
   "execution_count": null,
   "id": "eb2a75da",
   "metadata": {},
   "outputs": [],
   "source": []
  }
 ],
 "metadata": {
  "kernelspec": {
   "display_name": "Python 3 (ipykernel)",
   "language": "python",
   "name": "python3"
  },
  "language_info": {
   "codemirror_mode": {
    "name": "ipython",
    "version": 3
   },
   "file_extension": ".py",
   "mimetype": "text/x-python",
   "name": "python",
   "nbconvert_exporter": "python",
   "pygments_lexer": "ipython3",
   "version": "3.9.20"
  }
 },
 "nbformat": 4,
 "nbformat_minor": 5
}
